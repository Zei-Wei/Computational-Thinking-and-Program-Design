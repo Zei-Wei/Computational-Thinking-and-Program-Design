{
  "nbformat": 4,
  "nbformat_minor": 0,
  "metadata": {
    "colab": {
      "name": "week8.ipynb",
      "provenance": [],
      "collapsed_sections": [],
      "authorship_tag": "ABX9TyNgkIrZP3eSXQTWPH4r//Ru",
      "include_colab_link": true
    },
    "kernelspec": {
      "name": "python3",
      "display_name": "Python 3"
    }
  },
  "cells": [
    {
      "cell_type": "markdown",
      "metadata": {
        "id": "view-in-github",
        "colab_type": "text"
      },
      "source": [
        "<a href=\"https://colab.research.google.com/github/Zei-Wei/Computational-Thinking-and-Program-Design/blob/master/week8.ipynb\" target=\"_parent\"><img src=\"https://colab.research.google.com/assets/colab-badge.svg\" alt=\"Open In Colab\"/></a>"
      ]
    },
    {
      "cell_type": "code",
      "metadata": {
        "id": "ekiVWwOcsYyM",
        "outputId": "667086be-4854-4396-b989-ae9aa13180dd",
        "colab": {
          "base_uri": "https://localhost:8080/"
        }
      },
      "source": [
        "a = float(input(\"請輸入上衣購買數量\"))\n",
        "b = float(input(\"請輸入庫子購買數量\"))\n",
        "c = float(input(\"請輸入背心購買數量\"))\n",
        "total = a * 300 + b * 350 + c * 400\n",
        "print(f'訂購總額{total}元')"
      ],
      "execution_count": 16,
      "outputs": [
        {
          "output_type": "stream",
          "text": [
            "請輸入上衣購買數量3\n",
            "請輸入庫子購買數量7\n",
            "請輸入背心購買數量5\n",
            "訂購總額5350.0元\n"
          ],
          "name": "stdout"
        }
      ]
    },
    {
      "cell_type": "code",
      "metadata": {
        "id": "9GsqvxgUuEYF",
        "outputId": "23a2ba9f-d048-47fc-ec1f-cf09728e4452",
        "colab": {
          "base_uri": "https://localhost:8080/"
        }
      },
      "source": [
        "a = float(input(\"請輸入飲料數量\"))\n",
        "s = int(a/12)\n",
        "f = (a - s * 12) * 20\n",
        "m = s * 200\n",
        "g = f + m\n",
        "print(f'飲料價格{g}元')"
      ],
      "execution_count": 14,
      "outputs": [
        {
          "output_type": "stream",
          "text": [
            "請輸入飲料數量30\n",
            "飲料價格520.0元\n"
          ],
          "name": "stdout"
        }
      ]
    },
    {
      "cell_type": "code",
      "metadata": {
        "id": "ljdV3usIiZVF",
        "outputId": "04d2518b-e754-45a6-cdcd-3349c32c7729",
        "colab": {
          "base_uri": "https://localhost:8080/"
        }
      },
      "source": [
        "a = float(input(\"請輸入第一次期中考成績\"))\n",
        "b = float(input(\"請輸入第二次期中考成績\"))\n",
        "c = float(input(\"請輸入期末考成績\"))\n",
        "s = a + b + c\n",
        "m = s/3\n",
        "print(f'分數總和{s},分數平均{m}')"
      ],
      "execution_count": 12,
      "outputs": [
        {
          "output_type": "stream",
          "text": [
            "請輸入第一次期中考成績75\n",
            "請輸入第二次期中考成績80\n",
            "請輸入期末考成績65\n",
            "分數總和220.0,分數平均73.33333333333333\n"
          ],
          "name": "stdout"
        }
      ]
    }
  ]
}