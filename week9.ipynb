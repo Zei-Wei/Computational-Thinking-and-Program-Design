{
  "nbformat": 4,
  "nbformat_minor": 0,
  "metadata": {
    "colab": {
      "name": "week9.ipynb",
      "provenance": [],
      "authorship_tag": "ABX9TyM0Bys8ZqrwLlcV3juUoOr3",
      "include_colab_link": true
    },
    "kernelspec": {
      "name": "python3",
      "display_name": "Python 3"
    }
  },
  "cells": [
    {
      "cell_type": "markdown",
      "metadata": {
        "id": "view-in-github",
        "colab_type": "text"
      },
      "source": [
        "<a href=\"https://colab.research.google.com/github/Zei-Wei/Computational-Thinking-and-Program-Design/blob/master/week9.ipynb\" target=\"_parent\"><img src=\"https://colab.research.google.com/assets/colab-badge.svg\" alt=\"Open In Colab\"/></a>"
      ]
    },
    {
      "cell_type": "code",
      "metadata": {
        "id": "Fqpb0kn-u8y_",
        "outputId": "1ccca6fb-16cb-4596-d625-64462ff526a6",
        "colab": {
          "base_uri": "https://localhost:8080/"
        }
      },
      "source": [
        "a = float(input(\"請輸入座號\"))\n",
        "s = int((a - 1)/5)\n",
        "d = s + 1\n",
        "print(f'組別是第{d}幾組')\n"
      ],
      "execution_count": 14,
      "outputs": [
        {
          "output_type": "stream",
          "text": [
            "請輸入座號1\n",
            "組別是第1幾組\n"
          ],
          "name": "stdout"
        }
      ]
    }
  ]
}